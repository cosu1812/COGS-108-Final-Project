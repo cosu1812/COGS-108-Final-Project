{
 "cells": [
  {
   "cell_type": "markdown",
   "metadata": {},
   "source": [
    "# COGS 108 - Project Proposal"
   ]
  },
  {
   "cell_type": "markdown",
   "metadata": {},
   "source": [
    "## Important\n",
    "\n",
    "- Make sure all group members (3-5 people) are listed in the group members section.\n",
    "- ONE, and only one, member of your group should upload this notebook to TritonED. \n",
    "- Each member of the group will receive the same grade on this assignment. \n",
    "- Keep the file name the same: submit the file 'ProjectProposal.ipynb'"
   ]
  },
  {
   "cell_type": "markdown",
   "metadata": {},
   "source": [
    "## Overview"
   ]
  },
  {
   "cell_type": "markdown",
   "metadata": {},
   "source": [
    "Read the project description and detailed instructions for this assignment in the 'ProjectOutline' document."
   ]
  },
  {
   "cell_type": "markdown",
   "metadata": {},
   "source": [
    "## Group Members: Fill in the Student IDs of each group member here\n",
    "\n",
    "Replace the lines below to list each persons full student ID. Add lines as needed for your group size, and make sure each ID is listed on a separate line. \n",
    "\n",
    "- A13666356\n",
    "- A12255247\n",
    "- A12768844\n",
    "- A13021553\n",
    "- A12207049\n",
    "- A13917840\n"
   ]
  },
  {
   "cell_type": "markdown",
   "metadata": {},
   "source": [
    "### Research Question\n",
    "\n",
    "What is your research question? (1-2 sentences)"
   ]
  },
  {
   "cell_type": "markdown",
   "metadata": {},
   "source": [
    "Does proximity to an original food source in North America affect the ratings of a restaurant inspired by this food source? As you go further from the source, will the restaurant ratings of that cuisine become worse?"
   ]
  },
  {
   "cell_type": "markdown",
   "metadata": {},
   "source": [
    "### Hypothesis\n",
    "\n",
    "What is your main hypothesis and predictions? (2-3 sentences)"
   ]
  },
  {
   "cell_type": "markdown",
   "metadata": {},
   "source": [
    "For Mexican cuisines, we predict ratings will decline as the Mexican restaurants travel further from Mexico. Additionally, we predict that seafood restaurant ratings will decline as seafood restaurants move further from large bodies of water, like the coasts. For both predictions, we foresee a logarithmic decay."
   ]
  },
  {
   "cell_type": "markdown",
   "metadata": {},
   "source": [
    "### Dataset(s)\n",
    "\n",
    "What data will you use to answer your question? Describe the dataset(s) in terms of number of observations, what kind of features it contains, etc. You must use at least one dataset containing at least approximately 1000 observations (if your data are smaller but you feel they are sufficient, email Prof. Voytek). You are welcome (and in fact recommended) to find multiple datasets! If you do so, describe each one, and briefly explain how you will combine them together. "
   ]
  },
  {
   "cell_type": "markdown",
   "metadata": {},
   "source": [
    "*Fill in your dataset information here*\n",
    "\n",
    "(Copy this information for each dataset)\n",
    "- Dataset Name: Yelp Datasets (Business)\n",
    "- Link to the dataset: https://www.yelp.com/dataset\n",
    "- Number of observations: 174,1567\n",
    "\n",
    "1-2 sentences describing the dataset. \n",
    "This dataset includes the restaurant ratings, latitudes, longitudes, cuisine categories, business name, neighborhood, address, city, state, postal code, number of reviews, closed/open status, hours, parking, and business ID. \n",
    "\n",
    "If you plan to use multiple datasets, add 1-2 sentences about how you plan to combine these datasets."
   ]
  },
  {
   "cell_type": "markdown",
   "metadata": {},
   "source": [
    "### Background and Prior Work\n",
    "\n",
    "Why is this question of interest, what background information led you to your hypothesis, and why is this important?\n",
    "\n",
    "Find some relevant prior work, and reference those sources. Even if you think you have a totally novel question, find the most similar prior work that you can and discuss how it relates to your project. \n",
    "\n",
    "References can be research publications, but they need not be. Blogs, github repositories, company websites, etc., are all viable references if they are relevant to your project.\n",
    "\n",
    "(2-3 paragraphs, including at least 2 references)\n",
    "\n",
    "Since we attend UCSD and have experienced delicious Mexican cuisines, we were curious to see if quality of such food decreased as we traveled away from Mexico. From personal experience, members noticed that Mexican food quality in Southern California is superior to that in Northern California, concluding that this is possibly due to proximity from Mexico. To see if our hypothesis is true, we will be utilizing star ratings from Yelp can help determine whether location determines quality. Seeing if this hypothesis holds true for other cuisines, like seafood, will further test our hypothesis. This is important because customers would be able to see what restaurants are good in particular regions. Also, a company like Yelp could see how much power a restaurant rating has for that business. This tool could be used for small restaurant businesses in determining where they should build their location. So, our data would help to determine how close/far away a restaurant should be placed to be successful. \n",
    "\t\n",
    "A relevant project that relates to our project is by Tyler Knutsen, a strategist in the business industry. On his blogpost on the NYC Data Science Academy, he describes his project that explores whether Yelp reviews can predict a Michelin Star rating of a restaurant. The critics and criteria for the Michelin Star ratings are extremely secretive, so Knutsen uses the Yelp dataset to compare past and current Michelin rated restaurants, and whether the qualities of those restaurants define a high quality restaurant. His work revealed that a restaurant with a bill averaging $250 before drinks, a restaurant without reservations for months at a time, and dining experiences of +3 hours typically place a restaurant in the Michelin fine dining world. While we are not using Yelp ratings to predict the ratings of a restaurant, this is related to our project because we are using Yelp ratings to prove if there’s a relationship between proximity from the food source and ratings. We are seeing whether any correlation relates to our personal experiences and observations with food. We are utilizing similar techniques of web scraping and data analysis as Knutsen, like limiting our dataset to particular regions, parsing restaurant specific tags, and graphical analyses to display our results. \n",
    "\t\n",
    "A second relevant project that relates to our project is by a group of UCSD students (Mengqi Yu, Men Xue, and Wenjia Ouyang). This project attempts to take in Yelp datasets to accurately predict what Yelp ratings restaurants will receive in the future. To decide upon a prediction method, the group behind this project decided to use and compare three machine learning algorithms. Although quite different, our project and this project are also quite similar. The predictive project intends to find a relationship between a restaurant’s current reviews and a restaurant's future reviews, while our project intends to find a relationship between a restaurant's current reviews and a restaurant’s distance from that restaurant’s food’s original source. Additionally, our project intends to use maps and graphs similar to that of the predictive project’s. Also, our project, like the predictive project, focuses solely upon the restaurants in the dataset. \n"
   ]
  },
  {
   "cell_type": "markdown",
   "metadata": {},
   "source": [
    "*Fill in your background and prior work here* \n",
    "\n",
    "References (include links):\n",
    "- 1) https://nycdatascience.com/blog/student-works/predicting-michelin-stars-yelp-reviews-san-francisco/\n",
    "- 2) https://cseweb.ucsd.edu/~jmcauley/cse255/reports/fa15/017.pdf"
   ]
  },
  {
   "cell_type": "markdown",
   "metadata": {},
   "source": [
    "### Proposed Methods\n",
    "\n",
    "What methods will you use to analyze your data?\n",
    "\n",
    "- How 'clean' is the data? To the extent that it requires cleaning, how will you do so?\n",
    "- How will you analyze the data? Be as specific as you can. Briefly mention any pre-processing steps that are required for your methods (for example, checking data distributions and performing any transformations that may be required). Include a brief outline of how you will apply your chosen method(s). \n",
    "- What do you plan to report? Briefly mention any key visualizations you plan to create, and/or the kind of results you will be able to report that address your question (this could be, for example, the outcome of some statistical test(s), prediction error on a model, a model fit parameter, etc.).\n",
    "- Include a list of packages you expect to use for you project. If you plan to use packages we have not used in class, add a very brief description about them (a few words is sufficient). "
   ]
  },
  {
   "cell_type": "markdown",
   "metadata": {},
   "source": [
    "*Fill in your proposed methods information here:*\n",
    "\n",
    "*Data Cleaning (2-3 sentences)*\n",
    "To clean the data, we must filter the Yelp data to restaurants (not just any business) in North America through pandas’s functions for filtering dataframes. Then we use the ‘categories’ column to filter out the type of restaurant. From there, we use the restaurant's location through ‘longitude’ and ‘latitude’, city or zip code in ‘address’, and ‘state’.\n",
    "\n",
    "*Data Analysis (1-2 paragraphs)*\n",
    "We will plot the relationship between distance to the source and average Yelp rating to see if there is significant evidence of a correlation between the two. We would compare the relationship of distance from Mexico and ratings for Mexican restaurants to the relationship of distance from ocean and ratings for seafood restaurants. We will group restaurants by either distance intervals from the type of source using longitude and latitude, or by region. With region, we can group the restaurants by city, county, or state and also see if it’s the general distance the restaurant’s region is from the source, rather than the restaurant itself, that affects the ratings.\n",
    "\n",
    "*What to report (2-3 sentences)*\n",
    "We would report if there is a trend where if going further away from Mexico or the ocean, the ratings for restaurants in those cuisines get worse, and how the different cuisine share or don’t share the same trend.To visualize our data, we would create a map of North America that show the locations of restaurants from the source and the average ratings in a county to see if that affects the Yelp ratings. A scatter plot that graphs restaurant distance from source vs average rating will also be made to to see if there is a general trend and correlation.\n",
    "\n",
    "\n",
    "Packages we plan to use:\n",
    "- pandas\n",
    "- matplotlib\n",
    "- numpy\n",
    "- mpl_toolkits.basemap: A matplotlib extension for plotting data on geographical maps"
   ]
  },
  {
   "cell_type": "markdown",
   "metadata": {},
   "source": [
    "### Ethics and Privacy\n",
    "\n",
    "Briefly acknowledge and address any potential issues of ethics and privacy for the proposed project. In particular:\n",
    "- Do you have permission to use this data, for this purpose?\n",
    "- Are there privacy concerns regarding your datasets that you need to deal with, and/or terms of use that you need to comply with?\n",
    "- Are there potential biases in your dataset(s), in terms of who it composes, and how it was collected, that may be problematic in terms of it allowing for equitable analysis? (For example, does your data exclude particular populations, or is it likely to reflect particular human biases in a way that could be a problem?) \n",
    "- Are there any other issues related to your topic area, data, and/or analyses that are potentially problematic in terms of data privacy and equitable impact?\n",
    "- How will you handle any issues you identify?\n",
    "\n",
    "(1-2 paragraphs)\n",
    "\n",
    "There are little foreseeable potential issues of ethics and privacy for this proposed project. We have permission from Yelp to utilize this data for educational purposes. Additionally, because our dataset utilizes only publicly available data, there are no privacy concerns regarding our datasets. However, there are potential biases in our datasets that may be problematic. Due to being only a subset that Yelp provided us for educational purposes, our dataset does not include all of Yelp’s restaurants, and how exactly this data was collected is unknown. Thus, the restaurants in this dataset could have possibly been selected only if they met certain criteria, which would be cause for concern in terms of equitable impact. To address this issue, we will basically assume that Yelp would not intentionally heavily bias its own dataset designed for educational purposes. "
   ]
  },
  {
   "cell_type": "markdown",
   "metadata": {},
   "source": [
    "### Discussion\n",
    "\n",
    "Discuss your project, looking forward to what your results might mean, how they fit it in with what is already known, and what problems you may encounter. \n",
    "\n",
    "In particular:\n",
    "- If your analyses and hypotheses are correct, what will be the contribution of this project to the topic domain? \n",
    "- Alternatively, what will you do if you methods don't work and/or your hypotheses are wrong? \n",
    "- What are the potential pitfalls and potential confounds of your data and/or methods that may cause problems, and/or influence your interpretations?\n",
    "\n",
    "(2-3 paragraphs)"
   ]
  },
  {
   "cell_type": "markdown",
   "metadata": {},
   "source": [
    "If our analyses and hypotheses are correct, then maybe people will know more about what kind of food to get at different areas. People could know that when visiting coastal regions, seafood could be a good choice and that Mexican food could also be a good choice in places like California. If our methods do not work we would research more in datasets, adjust how we use distance from source, or change what criteria we use for source. If our hypotheses are wrong then perhaps there is no real correlation between distance from source and Yelp ratings. Perhaps other factors like characteristics of the location and its population have a much bigger impact on the Yelp ratings.\n",
    "\n",
    "A potential pitfall is that because Yelp reviews are only up to 5, the variation in ratings across different restaurants might not be large enough to fully analyze. Also, the Yelp dataset appears to be a random subset of all the businesses there are, and seems to be more focused in certain areas. Another potential pitfall includes the fact that Yelp reviewers might rate a restaurant more so on that restaurant's other aspects (such as service and decor) than that restaurant's food. Additionally, surrounding competition might influence a Yelp review.\n"
   ]
  },
  {
   "cell_type": "code",
   "execution_count": null,
   "metadata": {
    "collapsed": true
   },
   "outputs": [],
   "source": []
  }
 ],
 "metadata": {
  "kernelspec": {
   "display_name": "Python 3",
   "language": "python",
   "name": "python3"
  },
  "language_info": {
   "codemirror_mode": {
    "name": "ipython",
    "version": 3
   },
   "file_extension": ".py",
   "mimetype": "text/x-python",
   "name": "python",
   "nbconvert_exporter": "python",
   "pygments_lexer": "ipython3",
   "version": "3.6.3"
  }
 },
 "nbformat": 4,
 "nbformat_minor": 2
}
